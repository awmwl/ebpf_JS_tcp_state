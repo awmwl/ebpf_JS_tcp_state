{
 "cells": [
  {
   "cell_type": "code",
   "execution_count": null,
   "id": "fa4c10d0-6595-4f87-983c-4db9a49bc7fb",
   "metadata": {},
   "outputs": [],
   "source": [
    "import json\n",
    "import matplotlib.pyplot as plt\n",
    "\n",
    "with open(\"js_plot.json\") as f:\n",
    "    js_data = json.load(f)\n",
    "\n",
    "plt.figure(figsize=(10, 4))\n",
    "plt.plot(js_data, marker='o', label='Smoothed JS')\n",
    "plt.axhline(y=0.8, color='r', linestyle='--', label='Threshold')\n",
    "plt.xlabel(\"Sample Index\")\n",
    "plt.ylabel(\"JS Divergence\")\n",
    "plt.title(\"Smoothed JS Divergence Over Time\")\n",
    "plt.legend()\n",
    "plt.grid(True)\n",
    "plt.tight_layout()\n",
    "plt.savefig(\"js_plot.png\", dpi=300)  # 可用于论文插图\n",
    "plt.show()"
   ]
  }
 ],
 "metadata": {
  "kernelspec": {
   "display_name": "Python [conda env:base] *",
   "language": "python",
   "name": "conda-base-py"
  },
  "language_info": {
   "codemirror_mode": {
    "name": "ipython",
    "version": 3
   },
   "file_extension": ".py",
   "mimetype": "text/x-python",
   "name": "python",
   "nbconvert_exporter": "python",
   "pygments_lexer": "ipython3",
   "version": "3.12.3"
  }
 },
 "nbformat": 4,
 "nbformat_minor": 5
}
