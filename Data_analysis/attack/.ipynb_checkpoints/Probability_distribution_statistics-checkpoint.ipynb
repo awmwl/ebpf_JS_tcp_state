{
 "cells": [
  {
   "cell_type": "code",
   "execution_count": 4,
   "id": "6bb89cc0-dd5f-44c6-8f2e-21d9986ef07c",
   "metadata": {},
   "outputs": [
    {
     "name": "stdout",
     "output_type": "stream",
     "text": [
      "Saved heatmap to baseline__probs_sliding20250704_125843.png\n",
      "Saved heatmap to baseline__probs_sliding20250704_131445.png\n",
      "Saved heatmap to baseline__probs_sliding20250704_132535.png\n"
     ]
    }
   ],
   "source": [
    "import json\n",
    "import os\n",
    "import numpy as np\n",
    "import matplotlib.pyplot as plt\n",
    "import seaborn as sns\n",
    "\n",
    "def load_probs(json_file):\n",
    "    with open(json_file, 'r') as f:\n",
    "        data = json.load(f)\n",
    "    return data['probabilities']\n",
    "\n",
    "def build_matrix(probs, max_state=10):\n",
    "    matrix = np.zeros((max_state+1, max_state+1))\n",
    "    for k, v in probs.items():\n",
    "        old, new = map(int, k.split('-'))\n",
    "        if 0 <= old <= max_state and 0 <= new <= max_state:\n",
    "            matrix[old, new] = v\n",
    "    return matrix\n",
    "\n",
    "def plot_heatmap(matrix, title, figsize=(10,8), save_path=None):\n",
    "    plt.figure(figsize=figsize)\n",
    "    sns.heatmap(matrix, annot=True, fmt=\".3f\", cmap=\"YlGnBu\", cbar_kws={'label': 'Transition Probability'})\n",
    "    plt.title(title)\n",
    "    plt.xlabel(\"New State\")\n",
    "    plt.ylabel(\"Old State\")\n",
    "    plt.xticks(rotation=0)\n",
    "    plt.yticks(rotation=0)\n",
    "    plt.tight_layout()\n",
    "    if save_path:\n",
    "        plt.savefig(save_path, bbox_inches='tight')\n",
    "        print(f\"Saved heatmap to {save_path}\")\n",
    "    plt.close()\n",
    "\n",
    "# 当前目录下查找 JSON 文件\n",
    "folder_path = \".\"\n",
    "json_files = sorted(f for f in os.listdir(folder_path) if f.endswith('.json'))\n",
    "\n",
    "for idx, jf in enumerate(json_files, 1):  # 自动编号标题\n",
    "    full_path = os.path.join(folder_path, jf)\n",
    "    probs = load_probs(full_path)\n",
    "    matrix = build_matrix(probs)\n",
    "    \n",
    "    title = f\"TCP State Transition Probabilities [{idx}] Attack\"  # ← 只改这里的标题\n",
    "    save_file = jf.replace('.json', '.png')  # 保持原有时间戳命名\n",
    "    plot_heatmap(matrix, title, save_path=save_file)"
   ]
  },
  {
   "cell_type": "code",
   "execution_count": null,
   "id": "2e45250d-5770-41fa-a24b-546ba2497144",
   "metadata": {},
   "outputs": [],
   "source": [
    "baseline_probs = load_baseline_probs()\n",
    "attack_samples = [load_attack_probs(file) for file in attack_files]\n",
    "\n",
    "baseline_kl = compute_kl_divergence(baseline_probs, baseline_probs)  # 理论应为0，实际会有小浮动\n",
    "attack_kls = [compute_kl_divergence(baseline_probs, attack) for attack in attack_samples]\n",
    "\n",
    "max_normal_kl = max(baseline_kl_samples)  # 来自正常流量的实际采样KL分布最大值\n",
    "max_attack_kl = max(attack_kls)\n",
    "\n",
    "threshold = max_normal_kl + margin  # margin可根据经验设定，例0.05或0.1\n",
    "\n",
    "print(f\"设计阈值为 {threshold}, 正常最大KL={max_normal_kl}, 攻击最大KL={max_attack_kl}\")\n"
   ]
  }
 ],
 "metadata": {
  "kernelspec": {
   "display_name": "Python [conda env:base] *",
   "language": "python",
   "name": "conda-base-py"
  },
  "language_info": {
   "codemirror_mode": {
    "name": "ipython",
    "version": 3
   },
   "file_extension": ".py",
   "mimetype": "text/x-python",
   "name": "python",
   "nbconvert_exporter": "python",
   "pygments_lexer": "ipython3",
   "version": "3.12.3"
  }
 },
 "nbformat": 4,
 "nbformat_minor": 5
}
